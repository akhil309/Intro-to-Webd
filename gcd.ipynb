{
 "cells": [
  {
   "cell_type": "markdown",
   "metadata": {},
   "source": [
    "### simple euclidean algorithms applieed itteratively"
   ]
  },
  {
   "cell_type": "code",
   "execution_count": null,
   "metadata": {},
   "outputs": [],
   "source": [
    "def gcd(a,b):\n",
    "\twhile b!=0:\n",
    "\t\tr=a%b\n",
    "\t\ta=b\n",
    "\t\tb=r\n",
    "\treturn a"
   ]
  },
  {
   "cell_type": "markdown",
   "metadata": {},
   "source": [
    "### simple euclidean algorithms applieed recursively"
   ]
  },
  {
   "cell_type": "code",
   "execution_count": null,
   "metadata": {},
   "outputs": [],
   "source": [
    "'''\n",
    "def gcd(a,b):\n",
    "\tif b==0:\n",
    "\t\treturn a\n",
    "\treturn gcd(b,a%b)\n",
    "\n",
    "'''\t"
   ]
  },
  {
   "cell_type": "code",
   "execution_count": null,
   "metadata": {},
   "outputs": [],
   "source": [
    "a,b=map(int,input().split())\n",
    "if a>b:\n",
    "\tprint(gcd(a,b))\n",
    "else:\n",
    "\tprint(gcd(b,a))"
   ]
  }
 ],
 "metadata": {
  "kernelspec": {
   "display_name": "Python 3",
   "language": "python",
   "name": "python3"
  },
  "language_info": {
   "codemirror_mode": {
    "name": "ipython",
    "version": 3
   },
   "file_extension": ".py",
   "mimetype": "text/x-python",
   "name": "python",
   "nbconvert_exporter": "python",
   "pygments_lexer": "ipython3",
   "version": "3.7.0"
  }
 },
 "nbformat": 4,
 "nbformat_minor": 2
}
